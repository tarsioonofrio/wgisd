{
 "cells": [
  {
   "cell_type": "code",
   "execution_count": 8,
   "metadata": {},
   "outputs": [],
   "source": [
    "from shutil import copyfile\n",
    "from pathlib import Path\n",
    "\n",
    "root = Path('.')\n",
    "train_file_path = root / 'train.txt'\n",
    "test_file_path = root / 'test.txt'\n",
    "data_file_path = root / 'data'\n",
    "\n",
    "train_folder_path = root / 'train'\n",
    "test_folder_path = root / 'test'\n",
    "train_folder_path.mkdir(exist_ok=True)\n",
    "test_folder_path.mkdir(exist_ok=True)\n",
    "\n",
    "\n",
    "ext = ['.jpg', '.txt']"
   ]
  },
  {
   "cell_type": "code",
   "execution_count": 9,
   "metadata": {
    "collapsed": false,
    "jupyter": {
     "outputs_hidden": false
    },
    "pycharm": {
     "name": "#%%\n"
    }
   },
   "outputs": [],
   "source": [
    "with open(train_file_path, 'r') as reader:\n",
    "    train_files = reader.read()"
   ]
  },
  {
   "cell_type": "code",
   "execution_count": 10,
   "metadata": {
    "collapsed": false,
    "jupyter": {
     "outputs_hidden": false
    },
    "pycharm": {
     "name": "#%%\n"
    }
   },
   "outputs": [
    {
     "data": {
      "text/plain": [
       "['CDY_2031',\n",
       " 'SVB_1974',\n",
       " 'SVB_1978',\n",
       " 'SVB_1977',\n",
       " 'CSV_20180427_144528920',\n",
       " 'CDY_2050',\n",
       " 'CSV_1889',\n",
       " 'CFR_20180427_141236326',\n",
       " 'SVB_20180427_152106643_HDR',\n",
       " 'SVB_1939',\n",
       " 'CSV_1903',\n",
       " 'CFR_1624',\n",
       " 'CFR_1642',\n",
       " 'SVB_1950',\n",
       " 'CFR_1645',\n",
       " 'CSV_1893',\n",
       " 'CSV_20180427_144556277',\n",
       " 'SYH_2017-04-27_1312',\n",
       " 'SVB_1971',\n",
       " 'CSV_1891',\n",
       " 'CSV_1881',\n",
       " 'CDY_20180427_153021423_BURST001',\n",
       " 'CSV_1899',\n",
       " 'SVB_1937',\n",
       " 'CFR_1652',\n",
       " 'SVB_1976',\n",
       " 'CDY_2027',\n",
       " 'CDY_20180427_152937457_BURST000_COVER_TOP',\n",
       " 'SVB_1951',\n",
       " 'CSV_1873',\n",
       " 'CFR_1635',\n",
       " 'SVB_1957',\n",
       " 'CSV_20180427_144615644',\n",
       " 'SVB_20180427_152328332_HDR',\n",
       " 'SVB_1969',\n",
       " 'SYH_2017-04-27_1280',\n",
       " 'CFR_1661',\n",
       " 'SVB_20180427_151954938_HDR',\n",
       " 'CFR_1650',\n",
       " 'CSV_1868',\n",
       " 'CFR_1660',\n",
       " 'SYH_2017-04-27_1251',\n",
       " 'CFR_1664',\n",
       " 'SVB_1946',\n",
       " 'SVB_1931',\n",
       " 'CSV_1886',\n",
       " 'CFR_1670',\n",
       " 'SYH_2017-04-27_1336',\n",
       " 'CFR_1626',\n",
       " 'CSV_1871',\n",
       " 'SVB_1973',\n",
       " 'CFR_1627',\n",
       " 'CFR_1663',\n",
       " 'CSV_1897',\n",
       " 'SYH_2017-04-27_1310',\n",
       " 'CSV_1901',\n",
       " 'CDY_2019',\n",
       " 'CSV_1878',\n",
       " 'SYH_2017-04-27_1332',\n",
       " 'SVB_1955',\n",
       " 'SVB_20180427_152414932_HDR',\n",
       " 'CDY_2052',\n",
       " 'CSV_1865',\n",
       " 'SYH_2017-04-27_1233',\n",
       " 'CSV_20180427_144622111_HDR',\n",
       " 'CDY_2028',\n",
       " 'CFR_1628',\n",
       " 'CFR_20180427_141158495',\n",
       " 'CFR_1654',\n",
       " 'CDY_2034',\n",
       " 'SVB_1938',\n",
       " 'CDY_2048',\n",
       " 'CSV_1911',\n",
       " 'CSV_1883',\n",
       " 'CDY_2018',\n",
       " 'CFR_1647',\n",
       " 'CFR_20180427_141115778_HDR',\n",
       " 'CFR_20180427_141128570',\n",
       " 'CDY_2042',\n",
       " 'CFR_20180427_141254316_HDR',\n",
       " 'SYH_2017-04-27_1238',\n",
       " 'SYH_2017-04-27_1300',\n",
       " 'SYH_2017-04-27_1294',\n",
       " 'SYH_2017-04-27_1236',\n",
       " 'CDY_2056',\n",
       " 'SVB_1966',\n",
       " 'CFR_1671',\n",
       " 'SYH_2017-04-27_1253',\n",
       " 'CFR_1620',\n",
       " 'CDY_2017',\n",
       " 'SYH_2017-04-27_1316',\n",
       " 'SYH_2017-04-27_1260',\n",
       " 'CSV_1882',\n",
       " 'SYH_2017-04-27_1311',\n",
       " 'CSV_1874',\n",
       " 'SYH_2017-04-27_1271',\n",
       " 'SVB_1960',\n",
       " 'SVB_1947',\n",
       " 'SVB_1967',\n",
       " 'CFR_1631',\n",
       " 'CDY_2047',\n",
       " 'CFR_1633',\n",
       " 'CDY_2029',\n",
       " 'SYH_2017-04-27_1273',\n",
       " 'SVB_1964',\n",
       " 'CDY_20180427_153557690_BURST000_COVER_TOP',\n",
       " 'SVB_1932',\n",
       " 'SYH_2017-04-27_1278',\n",
       " 'CDY_2026',\n",
       " 'CDY_2025',\n",
       " 'SYH_2017-04-27_1338',\n",
       " 'CFR_1646',\n",
       " 'SVB_1968',\n",
       " 'CSV_20180427_144848357',\n",
       " 'SVB_20180427_152312131_HDR',\n",
       " 'SVB_20180427_152141327',\n",
       " 'CDY_2057',\n",
       " 'CDY_2035',\n",
       " 'CSV_20180427_144513954',\n",
       " 'CDY_2064',\n",
       " 'CDY_2016',\n",
       " 'CDY_2058',\n",
       " 'CDY_2024',\n",
       " 'SYH_2017-04-27_1314',\n",
       " 'CSV_1866',\n",
       " 'CFR_20180427_141059738_HDR',\n",
       " 'CDY_2021',\n",
       " 'CFR_1655',\n",
       " 'CDY_20180427_153126820_BURST001',\n",
       " 'CDY_2020',\n",
       " 'CFR_20180427_141228722',\n",
       " 'SVB_20180427_151848752',\n",
       " 'CSV_20180427_144548550',\n",
       " 'CFR_1629',\n",
       " 'CSV_1912',\n",
       " 'CSV_1900',\n",
       " 'CSV_20180427_144602780',\n",
       " 'CSV_1907',\n",
       " 'SVB_20180427_152404735_HDR',\n",
       " 'CSV_1890',\n",
       " 'CDY_20180427_152823935_BURST000_COVER_TOP',\n",
       " 'SVB_1948',\n",
       " 'CFR_1634',\n",
       " 'SVB_20180427_152027593_HDR',\n",
       " 'CDY_2032',\n",
       " 'CFR_1657',\n",
       " 'CSV_1908',\n",
       " 'CFR_1625',\n",
       " 'CDY_20180427_153152483_BURST001',\n",
       " 'SYH_2017-04-27_1334',\n",
       " 'CDY_2037',\n",
       " 'SVB_1949',\n",
       " 'CFR_1637',\n",
       " 'SYH_2017-04-27_1262',\n",
       " 'CSV_1876',\n",
       " 'SVB_1933',\n",
       " 'SYH_2017-04-27_1247',\n",
       " 'CDY_2055',\n",
       " 'CSV_1887',\n",
       " 'CFR_1648',\n",
       " 'CFR_1622',\n",
       " 'CFR_20180427_141010086_HDR',\n",
       " 'CDY_2053',\n",
       " 'CSV_1909',\n",
       " 'SVB_1940',\n",
       " 'SYH_2017-04-27_1344',\n",
       " 'SVB_1952',\n",
       " 'CFR_1659',\n",
       " 'CFR_20180427_141119803_HDR',\n",
       " 'CDY_2062',\n",
       " 'SYH_2017-04-27_1342',\n",
       " 'SYH_2017-04-27_1275',\n",
       " 'SVB_1958',\n",
       " 'SVB_1963',\n",
       " 'CDY_20180427_153421615_BURST001',\n",
       " 'SVB_1965',\n",
       " 'CSV_20180427_144743364_HDR',\n",
       " 'CFR_20180427_141239085',\n",
       " 'SYH_2017-04-27_1264',\n",
       " 'CSV_20180427_144714850_HDR',\n",
       " 'SYH_2017-04-27_1241',\n",
       " 'SYH_2017-04-27_1265',\n",
       " 'CDY_2063',\n",
       " 'SVB_1934',\n",
       " 'SVB_20180427_151832492',\n",
       " 'CDY_2045',\n",
       " 'CDY_2022',\n",
       " 'CFR_1644',\n",
       " 'CFR_1662',\n",
       " 'CFR_1640',\n",
       " 'CFR_1623',\n",
       " 'CSV_1869',\n",
       " 'CSV_1872',\n",
       " 'CFR_1632',\n",
       " 'SVB_1975',\n",
       " 'CSV_1892',\n",
       " 'CDY_2036',\n",
       " 'CSV_1884',\n",
       " 'SVB_1941',\n",
       " 'CSV_1904',\n",
       " 'CFR_1668',\n",
       " 'SVB_20180427_151905850_HDR',\n",
       " 'CFR_1636',\n",
       " 'CFR_20180427_141215627',\n",
       " 'SVB_20180427_152158290_HDR',\n",
       " 'CDY_2049',\n",
       " 'CDY_2030',\n",
       " 'CFR_1672',\n",
       " 'CFR_1653',\n",
       " 'CSV_1870',\n",
       " 'SYH_2017-04-27_1232',\n",
       " 'SYH_2017-04-27_1292',\n",
       " 'SYH_2017-04-27_1291',\n",
       " 'SYH_2017-04-27_1324',\n",
       " 'SYH_2017-04-27_1289',\n",
       " 'CDY_20180427_153409150_BURST000_COVER_TOP',\n",
       " 'CSV_20180427_144521946',\n",
       " 'CFR_1656',\n",
       " 'CSV_1896',\n",
       " 'SVB_1943',\n",
       " 'CDY_20180427_153433120_BURST001',\n",
       " 'SVB_1945',\n",
       " 'CFR_20180427_141030745_HDR',\n",
       " 'SVB_1930',\n",
       " 'SYH_2017-04-27_1340',\n",
       " 'CDY_20180427_153201477_BURST000_COVER_TOP',\n",
       " 'CDY_2044',\n",
       " 'CFR_20180427_141224656',\n",
       " 'CSV_1894',\n",
       " 'SYH_2017-04-27_1243',\n",
       " 'CDY_20180427_153126820_BURST000_COVER_TOP',\n",
       " 'SVB_1953',\n",
       " 'CSV_1867',\n",
       " 'SVB_20180427_152220515_HDR',\n",
       " 'CDY_2061',\n",
       " 'CSV_1902',\n",
       " 'SYH_2017-04-27_1326',\n",
       " 'CFR_1630',\n",
       " 'SYH_2017-04-27_1268',\n",
       " 'CFR_20180427_141150696',\n",
       " 'CDY_20180427_153310519_BURST000_COVER_TOP',\n",
       " 'CDY_20180427_153144437_BURST000_COVER_TOP',\n",
       " '']"
      ]
     },
     "execution_count": 10,
     "metadata": {},
     "output_type": "execute_result"
    }
   ],
   "source": [
    "train_files = train_files.split(\"\\n\")\n",
    "train_files"
   ]
  },
  {
   "cell_type": "code",
   "execution_count": 11,
   "metadata": {
    "collapsed": false,
    "jupyter": {
     "outputs_hidden": false
    },
    "pycharm": {
     "name": "#%%\n"
    }
   },
   "outputs": [
    {
     "data": {
      "text/plain": [
       "PosixPath('train/CDY_2031.jpg')"
      ]
     },
     "execution_count": 11,
     "metadata": {},
     "output_type": "execute_result"
    }
   ],
   "source": [
    "copyfile(data_file_path / (train_files[0] + \".jpg\"), train_folder_path / (train_files[0] + \".jpg\"))"
   ]
  },
  {
   "cell_type": "code",
   "execution_count": 12,
   "metadata": {
    "collapsed": false,
    "jupyter": {
     "outputs_hidden": false
    },
    "pycharm": {
     "name": "#%%\n"
    }
   },
   "outputs": [],
   "source": [
    "with open(train_file_path, 'r') as reader:\n",
    "    files = reader.read()\n",
    "    files = files.split(\"\\n\")\n",
    "    for f in files:\n",
    "        if f == '':\n",
    "            continue\n",
    "        for e in ext:\n",
    "            name = f + e\n",
    "            copyfile(data_file_path / name, train_folder_path / name)"
   ]
  },
  {
   "cell_type": "code",
   "execution_count": 13,
   "metadata": {
    "collapsed": false,
    "jupyter": {
     "outputs_hidden": false
    },
    "pycharm": {
     "name": "#%%\n"
    }
   },
   "outputs": [],
   "source": [
    "with open(test_file_path, 'r') as reader:\n",
    "    files = reader.read()\n",
    "    files = files.split(\"\\n\")\n",
    "    for f in files:\n",
    "        if f == '':\n",
    "            continue\n",
    "        for e in ext:\n",
    "            name = f + e\n",
    "            copyfile(data_file_path / name, test_folder_path / name)"
   ]
  },
  {
   "cell_type": "code",
   "execution_count": 14,
   "metadata": {
    "collapsed": false,
    "jupyter": {
     "outputs_hidden": false
    },
    "pycharm": {
     "name": "#%%\n"
    }
   },
   "outputs": [],
   "source": [
    "with open(train_file_path, 'r') as reader:\n",
    "    files = reader.read()\n",
    "    files = files.split(\"\\n\")\n",
    "    files_dontcare = [f for f in files if \"CDY\" in f]\n",
    "\n",
    "files_dontcare.sort()\n",
    "\n",
    "path_dontcare = train_file_path.parent / (train_file_path.stem + \"_dontcare.txt\")\n",
    "with open(path_dontcare, 'w') as writer:\n",
    "    for file in files_dontcare:\n",
    "        writer.write(f\"{file}\\n\")"
   ]
  },
  {
   "cell_type": "code",
   "execution_count": 18,
   "metadata": {
    "collapsed": false,
    "jupyter": {
     "outputs_hidden": false
    },
    "pycharm": {
     "name": "#%%\n"
    }
   },
   "outputs": [
    {
     "data": {
      "text/plain": [
       "PosixPath('dataset/wgisd/train_dontcare.txt')"
      ]
     },
     "execution_count": 18,
     "metadata": {},
     "output_type": "execute_result"
    }
   ],
   "source": [
    "#train_file_path.parent / (train_file_path.stem + \"_dontcare.txt\")\n"
   ]
  }
 ],
 "metadata": {
  "kernelspec": {
   "display_name": "Python 3",
   "language": "python",
   "name": "python3"
  },
  "language_info": {
   "codemirror_mode": {
    "name": "ipython",
    "version": 3
   },
   "file_extension": ".py",
   "mimetype": "text/x-python",
   "name": "python",
   "nbconvert_exporter": "python",
   "pygments_lexer": "ipython3",
   "version": "3.8.3"
  }
 },
 "nbformat": 4,
 "nbformat_minor": 4
}
