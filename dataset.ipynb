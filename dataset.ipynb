{
 "cells": [
  {
   "cell_type": "code",
   "execution_count": 1,
   "metadata": {},
   "outputs": [],
   "source": [
    "from shutil import copyfile\n",
    "from pathlib import Path\n",
    "\n",
    "import pandas as pd\n",
    "import numpy as np"
   ]
  },
  {
   "cell_type": "code",
   "execution_count": 8,
   "metadata": {},
   "outputs": [],
   "source": [
    "root = Path('.')\n",
    "train_file_path = root / 'train.txt'\n",
    "test_file_path = root / 'test.txt'\n",
    "data_file_path = root / 'data'\n",
    "\n",
    "train_folder_path = root / 'train'\n",
    "test_folder_path = root / 'test'\n",
    "train_folder_path.mkdir(exist_ok=True)\n",
    "test_folder_path.mkdir(exist_ok=True)\n",
    "\n",
    "\n",
    "ext = ['.jpg', '.txt']"
   ]
  },
  {
   "cell_type": "code",
   "execution_count": 9,
   "metadata": {
    "collapsed": false,
    "jupyter": {
     "outputs_hidden": false
    },
    "pycharm": {
     "name": "#%%\n"
    }
   },
   "outputs": [],
   "source": [
    "with open(train_file_path, 'r') as reader:\n",
    "    train_files = reader.read()"
   ]
  },
  {
   "cell_type": "code",
   "execution_count": null,
   "metadata": {
    "collapsed": false,
    "jupyter": {
     "outputs_hidden": false
    },
    "pycharm": {
     "name": "#%%\n"
    }
   },
   "outputs": [],
   "source": [
    "train_files = train_files.split(\"\\n\")\n",
    "train_files"
   ]
  },
  {
   "cell_type": "code",
   "execution_count": 11,
   "metadata": {
    "collapsed": false,
    "jupyter": {
     "outputs_hidden": false
    },
    "pycharm": {
     "name": "#%%\n"
    }
   },
   "outputs": [
    {
     "data": {
      "text/plain": [
       "PosixPath('train/CDY_2031.jpg')"
      ]
     },
     "execution_count": 11,
     "metadata": {},
     "output_type": "execute_result"
    }
   ],
   "source": [
    "copyfile(data_file_path / (train_files[0] + \".jpg\"), train_folder_path / (train_files[0] + \".jpg\"))"
   ]
  },
  {
   "cell_type": "code",
   "execution_count": 12,
   "metadata": {
    "collapsed": false,
    "jupyter": {
     "outputs_hidden": false
    },
    "pycharm": {
     "name": "#%%\n"
    }
   },
   "outputs": [],
   "source": [
    "with open(train_file_path, 'r') as reader:\n",
    "    files = reader.read()\n",
    "    files = files.split(\"\\n\")\n",
    "    for f in files:\n",
    "        if f == '':\n",
    "            continue\n",
    "        for e in ext:\n",
    "            name = f + e\n",
    "            copyfile(data_file_path / name, train_folder_path / name)"
   ]
  },
  {
   "cell_type": "code",
   "execution_count": 13,
   "metadata": {
    "collapsed": false,
    "jupyter": {
     "outputs_hidden": false
    },
    "pycharm": {
     "name": "#%%\n"
    }
   },
   "outputs": [],
   "source": [
    "with open(test_file_path, 'r') as reader:\n",
    "    files = reader.read()\n",
    "    files = files.split(\"\\n\")\n",
    "    for f in files:\n",
    "        if f == '':\n",
    "            continue\n",
    "        for e in ext:\n",
    "            name = f + e\n",
    "            copyfile(data_file_path / name, test_folder_path / name)"
   ]
  },
  {
   "cell_type": "code",
   "execution_count": 14,
   "metadata": {
    "collapsed": false,
    "jupyter": {
     "outputs_hidden": false
    },
    "pycharm": {
     "name": "#%%\n"
    }
   },
   "outputs": [],
   "source": [
    "with open(train_file_path, 'r') as reader:\n",
    "    files = reader.read()\n",
    "    files = files.split(\"\\n\")\n",
    "    files_dontcare = [f for f in files if \"CDY\" in f]\n",
    "\n",
    "files_dontcare.sort()\n",
    "\n",
    "path_dontcare = train_file_path.parent / (train_file_path.stem + \"_dontcare.txt\")\n",
    "with open(path_dontcare, 'w') as writer:\n",
    "    for file in files_dontcare:\n",
    "        writer.write(f\"{file}\\n\")"
   ]
  },
  {
   "cell_type": "code",
   "execution_count": 18,
   "metadata": {
    "collapsed": false,
    "jupyter": {
     "outputs_hidden": false
    },
    "pycharm": {
     "name": "#%%\n"
    }
   },
   "outputs": [
    {
     "data": {
      "text/plain": [
       "PosixPath('dataset/wgisd/train_dontcare.txt')"
      ]
     },
     "execution_count": 18,
     "metadata": {},
     "output_type": "execute_result"
    }
   ],
   "source": [
    "#train_file_path.parent / (train_file_path.stem + \"_dontcare.txt\")\n"
   ]
  },
  {
   "cell_type": "code",
   "execution_count": 2,
   "metadata": {},
   "outputs": [],
   "source": [
    "root = Path(\"train-dontcare\").resolve()"
   ]
  },
  {
   "cell_type": "code",
   "execution_count": 52,
   "metadata": {},
   "outputs": [
    {
     "name": "stdout",
     "output_type": "stream",
     "text": [
      "/home/tarsio/private/wgisd/train-dontcare/CDY_20180427_153201477_BURST000_COVER_TOP.txt\n"
     ]
    }
   ],
   "source": [
    "for p in root.glob(\"*.txt\"):\n",
    "    print(p)\n",
    "    break"
   ]
  },
  {
   "cell_type": "code",
   "execution_count": 112,
   "metadata": {},
   "outputs": [
    {
     "data": {
      "text/html": [
       "<div>\n",
       "<style scoped>\n",
       "    .dataframe tbody tr th:only-of-type {\n",
       "        vertical-align: middle;\n",
       "    }\n",
       "\n",
       "    .dataframe tbody tr th {\n",
       "        vertical-align: top;\n",
       "    }\n",
       "\n",
       "    .dataframe thead th {\n",
       "        text-align: right;\n",
       "    }\n",
       "</style>\n",
       "<table border=\"1\" class=\"dataframe\">\n",
       "  <thead>\n",
       "    <tr style=\"text-align: right;\">\n",
       "      <th></th>\n",
       "      <th>0</th>\n",
       "      <th>1</th>\n",
       "      <th>2</th>\n",
       "      <th>3</th>\n",
       "      <th>4</th>\n",
       "    </tr>\n",
       "  </thead>\n",
       "  <tbody>\n",
       "    <tr>\n",
       "      <th>0</th>\n",
       "      <td>0</td>\n",
       "      <td>0.097656</td>\n",
       "      <td>0.573626</td>\n",
       "      <td>0.084961</td>\n",
       "      <td>0.193407</td>\n",
       "    </tr>\n",
       "    <tr>\n",
       "      <th>1</th>\n",
       "      <td>-1</td>\n",
       "      <td>0.325928</td>\n",
       "      <td>0.434432</td>\n",
       "      <td>0.086426</td>\n",
       "      <td>0.224176</td>\n",
       "    </tr>\n",
       "    <tr>\n",
       "      <th>2</th>\n",
       "      <td>-1</td>\n",
       "      <td>0.362793</td>\n",
       "      <td>0.545055</td>\n",
       "      <td>0.062500</td>\n",
       "      <td>0.178755</td>\n",
       "    </tr>\n",
       "    <tr>\n",
       "      <th>3</th>\n",
       "      <td>-1</td>\n",
       "      <td>0.443115</td>\n",
       "      <td>0.564469</td>\n",
       "      <td>0.110840</td>\n",
       "      <td>0.198535</td>\n",
       "    </tr>\n",
       "    <tr>\n",
       "      <th>4</th>\n",
       "      <td>-1</td>\n",
       "      <td>0.705078</td>\n",
       "      <td>0.336630</td>\n",
       "      <td>0.142578</td>\n",
       "      <td>0.122344</td>\n",
       "    </tr>\n",
       "    <tr>\n",
       "      <th>5</th>\n",
       "      <td>-1</td>\n",
       "      <td>0.647949</td>\n",
       "      <td>0.447619</td>\n",
       "      <td>0.065430</td>\n",
       "      <td>0.183150</td>\n",
       "    </tr>\n",
       "    <tr>\n",
       "      <th>6</th>\n",
       "      <td>-1</td>\n",
       "      <td>0.731201</td>\n",
       "      <td>0.484982</td>\n",
       "      <td>0.107910</td>\n",
       "      <td>0.155311</td>\n",
       "    </tr>\n",
       "  </tbody>\n",
       "</table>\n",
       "</div>"
      ],
      "text/plain": [
       "   0         1         2         3         4\n",
       "0  0  0.097656  0.573626  0.084961  0.193407\n",
       "1 -1  0.325928  0.434432  0.086426  0.224176\n",
       "2 -1  0.362793  0.545055  0.062500  0.178755\n",
       "3 -1  0.443115  0.564469  0.110840  0.198535\n",
       "4 -1  0.705078  0.336630  0.142578  0.122344\n",
       "5 -1  0.647949  0.447619  0.065430  0.183150\n",
       "6 -1  0.731201  0.484982  0.107910  0.155311"
      ]
     },
     "execution_count": 112,
     "metadata": {},
     "output_type": "execute_result"
    }
   ],
   "source": [
    "data = pd.read_csv(p, header=None, sep=\" \")\n",
    "data"
   ]
  },
  {
   "cell_type": "code",
   "execution_count": 113,
   "metadata": {},
   "outputs": [
    {
     "data": {
      "text/html": [
       "<div>\n",
       "<style scoped>\n",
       "    .dataframe tbody tr th:only-of-type {\n",
       "        vertical-align: middle;\n",
       "    }\n",
       "\n",
       "    .dataframe tbody tr th {\n",
       "        vertical-align: top;\n",
       "    }\n",
       "\n",
       "    .dataframe thead th {\n",
       "        text-align: right;\n",
       "    }\n",
       "</style>\n",
       "<table border=\"1\" class=\"dataframe\">\n",
       "  <thead>\n",
       "    <tr style=\"text-align: right;\">\n",
       "      <th></th>\n",
       "      <th>0</th>\n",
       "      <th>1</th>\n",
       "      <th>2</th>\n",
       "      <th>3</th>\n",
       "      <th>4</th>\n",
       "    </tr>\n",
       "  </thead>\n",
       "  <tbody>\n",
       "    <tr>\n",
       "      <th>0</th>\n",
       "      <td>-1</td>\n",
       "      <td>0.097656</td>\n",
       "      <td>0.573626</td>\n",
       "      <td>0.084961</td>\n",
       "      <td>0.193407</td>\n",
       "    </tr>\n",
       "    <tr>\n",
       "      <th>1</th>\n",
       "      <td>-1</td>\n",
       "      <td>0.325928</td>\n",
       "      <td>0.434432</td>\n",
       "      <td>0.086426</td>\n",
       "      <td>0.224176</td>\n",
       "    </tr>\n",
       "    <tr>\n",
       "      <th>2</th>\n",
       "      <td>-1</td>\n",
       "      <td>0.362793</td>\n",
       "      <td>0.545055</td>\n",
       "      <td>0.062500</td>\n",
       "      <td>0.178755</td>\n",
       "    </tr>\n",
       "    <tr>\n",
       "      <th>3</th>\n",
       "      <td>-1</td>\n",
       "      <td>0.443115</td>\n",
       "      <td>0.564469</td>\n",
       "      <td>0.110840</td>\n",
       "      <td>0.198535</td>\n",
       "    </tr>\n",
       "    <tr>\n",
       "      <th>4</th>\n",
       "      <td>-1</td>\n",
       "      <td>0.705078</td>\n",
       "      <td>0.336630</td>\n",
       "      <td>0.142578</td>\n",
       "      <td>0.122344</td>\n",
       "    </tr>\n",
       "    <tr>\n",
       "      <th>5</th>\n",
       "      <td>-1</td>\n",
       "      <td>0.647949</td>\n",
       "      <td>0.447619</td>\n",
       "      <td>0.065430</td>\n",
       "      <td>0.183150</td>\n",
       "    </tr>\n",
       "    <tr>\n",
       "      <th>6</th>\n",
       "      <td>-1</td>\n",
       "      <td>0.731201</td>\n",
       "      <td>0.484982</td>\n",
       "      <td>0.107910</td>\n",
       "      <td>0.155311</td>\n",
       "    </tr>\n",
       "  </tbody>\n",
       "</table>\n",
       "</div>"
      ],
      "text/plain": [
       "   0         1         2         3         4\n",
       "0 -1  0.097656  0.573626  0.084961  0.193407\n",
       "1 -1  0.325928  0.434432  0.086426  0.224176\n",
       "2 -1  0.362793  0.545055  0.062500  0.178755\n",
       "3 -1  0.443115  0.564469  0.110840  0.198535\n",
       "4 -1  0.705078  0.336630  0.142578  0.122344\n",
       "5 -1  0.647949  0.447619  0.065430  0.183150\n",
       "6 -1  0.731201  0.484982  0.107910  0.155311"
      ]
     },
     "execution_count": 113,
     "metadata": {},
     "output_type": "execute_result"
    }
   ],
   "source": [
    "data[0] = -1\n",
    "data"
   ]
  },
  {
   "cell_type": "code",
   "execution_count": 114,
   "metadata": {},
   "outputs": [
    {
     "data": {
      "text/plain": [
       "4"
      ]
     },
     "execution_count": 114,
     "metadata": {},
     "output_type": "execute_result"
    }
   ],
   "source": [
    "np.random.randint(len(data))"
   ]
  },
  {
   "cell_type": "code",
   "execution_count": 115,
   "metadata": {},
   "outputs": [],
   "source": [
    "data.loc[np.random.randint(len(data), size=2), 0] = 0 "
   ]
  },
  {
   "cell_type": "code",
   "execution_count": 116,
   "metadata": {},
   "outputs": [
    {
     "data": {
      "text/html": [
       "<div>\n",
       "<style scoped>\n",
       "    .dataframe tbody tr th:only-of-type {\n",
       "        vertical-align: middle;\n",
       "    }\n",
       "\n",
       "    .dataframe tbody tr th {\n",
       "        vertical-align: top;\n",
       "    }\n",
       "\n",
       "    .dataframe thead th {\n",
       "        text-align: right;\n",
       "    }\n",
       "</style>\n",
       "<table border=\"1\" class=\"dataframe\">\n",
       "  <thead>\n",
       "    <tr style=\"text-align: right;\">\n",
       "      <th></th>\n",
       "      <th>0</th>\n",
       "      <th>1</th>\n",
       "      <th>2</th>\n",
       "      <th>3</th>\n",
       "      <th>4</th>\n",
       "    </tr>\n",
       "  </thead>\n",
       "  <tbody>\n",
       "    <tr>\n",
       "      <th>0</th>\n",
       "      <td>-1</td>\n",
       "      <td>0.097656</td>\n",
       "      <td>0.573626</td>\n",
       "      <td>0.084961</td>\n",
       "      <td>0.193407</td>\n",
       "    </tr>\n",
       "    <tr>\n",
       "      <th>1</th>\n",
       "      <td>0</td>\n",
       "      <td>0.325928</td>\n",
       "      <td>0.434432</td>\n",
       "      <td>0.086426</td>\n",
       "      <td>0.224176</td>\n",
       "    </tr>\n",
       "    <tr>\n",
       "      <th>2</th>\n",
       "      <td>0</td>\n",
       "      <td>0.362793</td>\n",
       "      <td>0.545055</td>\n",
       "      <td>0.062500</td>\n",
       "      <td>0.178755</td>\n",
       "    </tr>\n",
       "    <tr>\n",
       "      <th>3</th>\n",
       "      <td>-1</td>\n",
       "      <td>0.443115</td>\n",
       "      <td>0.564469</td>\n",
       "      <td>0.110840</td>\n",
       "      <td>0.198535</td>\n",
       "    </tr>\n",
       "    <tr>\n",
       "      <th>4</th>\n",
       "      <td>-1</td>\n",
       "      <td>0.705078</td>\n",
       "      <td>0.336630</td>\n",
       "      <td>0.142578</td>\n",
       "      <td>0.122344</td>\n",
       "    </tr>\n",
       "    <tr>\n",
       "      <th>5</th>\n",
       "      <td>-1</td>\n",
       "      <td>0.647949</td>\n",
       "      <td>0.447619</td>\n",
       "      <td>0.065430</td>\n",
       "      <td>0.183150</td>\n",
       "    </tr>\n",
       "    <tr>\n",
       "      <th>6</th>\n",
       "      <td>-1</td>\n",
       "      <td>0.731201</td>\n",
       "      <td>0.484982</td>\n",
       "      <td>0.107910</td>\n",
       "      <td>0.155311</td>\n",
       "    </tr>\n",
       "  </tbody>\n",
       "</table>\n",
       "</div>"
      ],
      "text/plain": [
       "   0         1         2         3         4\n",
       "0 -1  0.097656  0.573626  0.084961  0.193407\n",
       "1  0  0.325928  0.434432  0.086426  0.224176\n",
       "2  0  0.362793  0.545055  0.062500  0.178755\n",
       "3 -1  0.443115  0.564469  0.110840  0.198535\n",
       "4 -1  0.705078  0.336630  0.142578  0.122344\n",
       "5 -1  0.647949  0.447619  0.065430  0.183150\n",
       "6 -1  0.731201  0.484982  0.107910  0.155311"
      ]
     },
     "execution_count": 116,
     "metadata": {},
     "output_type": "execute_result"
    }
   ],
   "source": [
    "data"
   ]
  },
  {
   "cell_type": "code",
   "execution_count": 85,
   "metadata": {},
   "outputs": [],
   "source": [
    "data.to_csv(p, header=False,  sep=\" \", float_format='%.6f', index=False)"
   ]
  },
  {
   "cell_type": "code",
   "execution_count": 86,
   "metadata": {},
   "outputs": [
    {
     "data": {
      "text/plain": [
       "PosixPath('/home/tarsio/private/wgisd/train-dontcare/CDY_20180427_153201477_BURST000_COVER_TOP.txt')"
      ]
     },
     "execution_count": 86,
     "metadata": {},
     "output_type": "execute_result"
    }
   ],
   "source": [
    "p"
   ]
  },
  {
   "cell_type": "code",
   "execution_count": 2,
   "metadata": {},
   "outputs": [],
   "source": [
    "root = Path(\"train-dontcare\").resolve()\n",
    "for p in root.glob(\"*.txt\"):\n",
    "    data = pd.read_csv(p, header=None, sep=\" \")\n",
    "    data[0] = 0\n",
    "#     data.loc[np.random.randint(len(data), size=2), 0] = -1\n",
    "    data.to_csv(p, header=False,  sep=\" \", float_format='%.6f', index=False)"
   ]
  },
  {
   "cell_type": "code",
   "execution_count": null,
   "metadata": {},
   "outputs": [],
   "source": []
  }
 ],
 "metadata": {
  "kernelspec": {
   "display_name": "Python 3",
   "language": "python",
   "name": "python3"
  },
  "language_info": {
   "codemirror_mode": {
    "name": "ipython",
    "version": 3
   },
   "file_extension": ".py",
   "mimetype": "text/x-python",
   "name": "python",
   "nbconvert_exporter": "python",
   "pygments_lexer": "ipython3",
   "version": "3.8.3"
  }
 },
 "nbformat": 4,
 "nbformat_minor": 4
}
